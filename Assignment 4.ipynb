{
 "cells": [
  {
   "cell_type": "code",
   "execution_count": 3,
   "id": "63b3584b",
   "metadata": {},
   "outputs": [
    {
     "name": "stdout",
     "output_type": "stream",
     "text": [
      "Enter a Number10\n",
      "Output is 35\n"
     ]
    }
   ],
   "source": [
    "#Adding 25 to given number\n",
    "x=int(input(\"Enter a Number\"))\n",
    "z=lambda x:x+25\n",
    "print(\"Output is\",z(x))"
   ]
  },
  {
   "cell_type": "code",
   "execution_count": 4,
   "id": "99395c89",
   "metadata": {},
   "outputs": [
    {
     "name": "stdout",
     "output_type": "stream",
     "text": [
      "1 2 3 4 5 6 7\n",
      "Triple of the number is [3, 6, 9, 12, 15, 18, 21]\n"
     ]
    }
   ],
   "source": [
    "#Triple of the list number\n",
    "x=list(map(int,input().split()))\n",
    "z=list(map(lambda x:x*3,x))\n",
    "print(\"Triple of the number is\",z)\n"
   ]
  },
  {
   "cell_type": "code",
   "execution_count": 5,
   "id": "9f23c43e",
   "metadata": {},
   "outputs": [
    {
     "name": "stdout",
     "output_type": "stream",
     "text": [
      "4 5 2 9\n",
      "Square of the number is [16, 25, 4, 81]\n"
     ]
    }
   ],
   "source": [
    "#Square of the list numbers\n",
    "x=list(map(int,input().split()))\n",
    "z=list(map(lambda x:x**2,x))\n",
    "print(\"Square of the number is\",z)"
   ]
  },
  {
   "cell_type": "code",
   "execution_count": null,
   "id": "cd721442",
   "metadata": {},
   "outputs": [],
   "source": []
  }
 ],
 "metadata": {
  "kernelspec": {
   "display_name": "Python 3 (ipykernel)",
   "language": "python",
   "name": "python3"
  },
  "language_info": {
   "codemirror_mode": {
    "name": "ipython",
    "version": 3
   },
   "file_extension": ".py",
   "mimetype": "text/x-python",
   "name": "python",
   "nbconvert_exporter": "python",
   "pygments_lexer": "ipython3",
   "version": "3.9.12"
  }
 },
 "nbformat": 4,
 "nbformat_minor": 5
}
